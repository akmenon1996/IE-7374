{
  "nbformat": 4,
  "nbformat_minor": 0,
  "metadata": {
    "colab": {
      "name": "Lab_2(e)_MABs_UCB.ipynb",
      "provenance": [],
      "collapsed_sections": [],
      "include_colab_link": true
    },
    "kernelspec": {
      "display_name": "Python 3",
      "language": "python",
      "name": "python3"
    },
    "language_info": {
      "codemirror_mode": {
        "name": "ipython",
        "version": 3
      },
      "file_extension": ".py",
      "mimetype": "text/x-python",
      "name": "python",
      "nbconvert_exporter": "python",
      "pygments_lexer": "ipython3",
      "version": "3.7.6"
    }
  },
  "cells": [
    {
      "cell_type": "markdown",
      "metadata": {
        "id": "view-in-github",
        "colab_type": "text"
      },
      "source": [
        "<a href=\"https://colab.research.google.com/github/m7saikat/IE-7374/blob/master/Lab_2(e)_MABs_UCB.ipynb\" target=\"_parent\"><img src=\"https://colab.research.google.com/assets/colab-badge.svg\" alt=\"Open In Colab\"/></a>"
      ]
    },
    {
      "cell_type": "markdown",
      "metadata": {
        "colab_type": "text",
        "id": "tq2lrsG6C-um"
      },
      "source": [
        "# Lab 2-e  Multi-armed Bandits - Upper Confidence Bound (UCB)"
      ]
    },
    {
      "cell_type": "markdown",
      "metadata": {
        "colab_type": "text",
        "id": "FIizK_hb3t8j"
      },
      "source": [
        "## 1 - Introduction"
      ]
    },
    {
      "cell_type": "markdown",
      "metadata": {
        "colab_type": "text",
        "id": "1j7o2RRQy3Wm"
      },
      "source": [
        "Exploration is needed because there is always uncertainty about the accuracy of the action-value estimates. The greedy actions are those that look best at present, but some of the other actions may actually be better. ε-greedy action selection forces the non-greedy actions to be tried, but indiscriminately, with no preference for those that are nearly greedy or particularly uncertain. It would be better to select among the non-greedy actions according to their potential for actually being optimal, taking into account both how close their estimates are to being maximal and the uncertainties in those estimates. One eﬀective way of doing this is to select actions according to\n",
        "\n",
        "$A_t \\dot=\\left[Q_t + c\\sqrt\\frac{log_e t}{N_t(a)}\\right]$\n",
        "\n",
        "where $log_et$ denotes the natural logarithm of $t$ , $N_t(a)$ denotes the number of times that action a has been selected prior to time $t$, and the number $c > 0$ controls the degree of exploration. If $N_t(a) = 0$, then $a$ is considered to be a maximizing action. "
      ]
    },
    {
      "cell_type": "markdown",
      "metadata": {
        "colab_type": "text",
        "id": "zd0YrcdA0FMj"
      },
      "source": [
        "The idea of this upper conﬁdence bound (UCB) action selection is that the square-root term which is a measure of the uncertainty or variance in the estimate of $a$’s value. The quantity being max’ed over is thus a sort of upper bound on the possible true value of action a, with c determining the conﬁdence level. Each time a is selected the uncertainty is presumably reduced: $N_t(a)$ increments, and, as it appears in the denominator, the uncertainty term decreases. On the other hand, each time an action other than a is selected, t increases but $N_t(a)$ does not; because $t$ appears in the numerator, the uncertainty estimate increases. The use of the natural logarithm means that the increases get smaller over time, but are unbounded; all actions will eventually be selected, but actions with lower value estimates, or that have already been selected frequently, will be selected with decreasing frequency over time. "
      ]
    },
    {
      "cell_type": "markdown",
      "metadata": {
        "colab_type": "text",
        "id": "4U-NSidc0U3o"
      },
      "source": [
        "In this lab we have tried to compare the results of greedy with UCB on the 10-armed testbed."
      ]
    },
    {
      "cell_type": "markdown",
      "metadata": {
        "colab_type": "text",
        "id": "0g4AOuZk_xxm"
      },
      "source": [
        "### Importing Libraries\n",
        "---\n"
      ]
    },
    {
      "cell_type": "code",
      "metadata": {
        "colab_type": "code",
        "id": "eJXL305G7iMd",
        "colab": {}
      },
      "source": [
        "import numpy as np\n",
        "import matplotlib.pyplot as plt"
      ],
      "execution_count": 0,
      "outputs": []
    },
    {
      "cell_type": "markdown",
      "metadata": {
        "colab_type": "text",
        "id": "InGV7U0v4Jn6"
      },
      "source": [
        "## 2 - Problem definition"
      ]
    },
    {
      "cell_type": "markdown",
      "metadata": {
        "colab_type": "text",
        "id": "nzXYd5QE64DZ"
      },
      "source": [
        "### Expected initial action value\n",
        "---\n"
      ]
    },
    {
      "cell_type": "code",
      "metadata": {
        "colab_type": "code",
        "id": "5550dyjk7iMt",
        "colab": {}
      },
      "source": [
        "# This function generates the true value of actions\n",
        "def expected_action_value_function(mu=0, scale=1, arms=10):\n",
        "    expected_action_value = np.random.uniform(mu, scale , arms)\n",
        "    return expected_action_value"
      ],
      "execution_count": 0,
      "outputs": []
    },
    {
      "cell_type": "markdown",
      "metadata": {
        "colab_type": "text",
        "id": "ION6luKDCPi_"
      },
      "source": [
        "### Adding randomness to the expected action values\n",
        "---\n",
        "\n"
      ]
    },
    {
      "cell_type": "code",
      "metadata": {
        "colab_type": "code",
        "id": "FdQbhmlr1JUl",
        "colab": {}
      },
      "source": [
        "def update_expected_action_value(expected_action_value):\n",
        "    expected_action_value += np.random.normal(0, 0.01, arms) \n",
        "    return(expected_action_value)"
      ],
      "execution_count": 0,
      "outputs": []
    },
    {
      "cell_type": "markdown",
      "metadata": {
        "colab_type": "text",
        "id": "IeIpdtD7E8ME"
      },
      "source": [
        "### Reward function\n",
        "---\n"
      ]
    },
    {
      "cell_type": "code",
      "metadata": {
        "colab_type": "code",
        "id": "R-PhM4kO7iMn",
        "colab": {}
      },
      "source": [
        "def reward_function(action_taken, expected_action_value,scale=1):\n",
        "  reward = expected_action_value [action_taken] + np.random.normal(scale) # reward=N(Mu,1) or Mu+N(0,1)\n",
        "  return reward"
      ],
      "execution_count": 0,
      "outputs": []
    },
    {
      "cell_type": "markdown",
      "metadata": {
        "colab_type": "text",
        "id": "l33XQlls35pe"
      },
      "source": [
        "## 3 - Implementation"
      ]
    },
    {
      "cell_type": "markdown",
      "metadata": {
        "colab_type": "text",
        "id": "c0jcl1pKIW2d"
      },
      "source": [
        "### Methods 1:  <span style=\"color:blue\">$\\epsilon-greedy$</span>  function \n",
        "\n",
        "---"
      ]
    },
    {
      "cell_type": "code",
      "metadata": {
        "colab_type": "code",
        "id": "2-CvdBvc7iMo",
        "colab": {}
      },
      "source": [
        "def get_action_greedy(estimate_action_value, e, arms, action_count):\n",
        "  # genereate a random num (0,1) to be compared with epsilon\n",
        "  e_estimator = np.random.uniform(0, 1) \n",
        " \n",
        "  # epsilon-greedy appraoch\n",
        "  action = np.argmax(estimate_action_value) if e_estimator > e else np.random.choice(np.arange(arms))\n",
        "\n",
        "  return action"
      ],
      "execution_count": 0,
      "outputs": []
    },
    {
      "cell_type": "markdown",
      "metadata": {
        "colab_type": "text",
        "id": "_25DqygHzZ5D"
      },
      "source": [
        "### Methods 2:  <span style=\"color:red\">Upper Confidence Bound (UCB)</span>  function "
      ]
    },
    {
      "cell_type": "code",
      "metadata": {
        "colab_type": "code",
        "id": "RFI9-OgCsAaF",
        "colab": {}
      },
      "source": [
        "def get_action_ucb(estimate_action_value, e, arms, count, c=2):  \n",
        "  # genereate a random num (0,1) to be compared with epsilon\n",
        "  e_estimator = np.random.uniform(0, 1) \n",
        " \n",
        "  # UCB Approach: changing the way action is being selected.\n",
        "  if e_estimator > e:\n",
        "    t = np.sum(count) + 1\n",
        "    q = estimate_action_value + c * np.sqrt(np.log(t) / (count + 1e-6)) \n",
        "    action = np.argmax(q)  \n",
        "  else:\n",
        "    action = np.random.choice(np.arange(arms))\n",
        "  return action"
      ],
      "execution_count": 0,
      "outputs": []
    },
    {
      "cell_type": "markdown",
      "metadata": {
        "colab_type": "text",
        "id": "mJVW2Z-NLLQW"
      },
      "source": [
        "### Action Value estimation- Method 1: Weighted Average approach\n",
        "\n",
        "---"
      ]
    },
    {
      "cell_type": "code",
      "metadata": {
        "colab_type": "code",
        "id": "c0hLOn0R7iMq",
        "colab": {}
      },
      "source": [
        "# Define estimate_action_value function (using weighted average method)\n",
        "def weighted_average (estimate_action_value, action, reward, alpha):\n",
        "    estimate_action_value[action] = estimate_action_value[action] + alpha * (reward - estimate_action_value[action])\n",
        "    return estimate_action_value"
      ],
      "execution_count": 0,
      "outputs": []
    },
    {
      "cell_type": "markdown",
      "metadata": {
        "colab_type": "text",
        "id": "ZuRSspS4D8mC"
      },
      "source": [
        "### The k-armed bandit problem\n",
        "---\n"
      ]
    },
    {
      "cell_type": "code",
      "metadata": {
        "colab_type": "code",
        "id": "NSAUDvuQ7iMr",
        "colab": {}
      },
      "source": [
        "def multi_arm_bandit_problem(alpha = 0.1, arms = 10, steps = 1000, epsilon = 0.1, expected_action_value = [],scale=1, typ = '' ):\n",
        "   \n",
        "    # Initilization \n",
        "    overall_reward, optimal_action = [], [] \n",
        "\n",
        "    # Initial Action values is set to zero \n",
        "    estimate_action_value = np.zeros(arms)\n",
        "\n",
        "    #number of times is action (arm) is taken \n",
        "    count = np.zeros(arms) \n",
        "\n",
        "    # Main loop\n",
        "    for s in range(0, steps):\n",
        "\n",
        "        # Select an action based on type of problem\n",
        "        if typ == greedy:\n",
        "          action = get_action_greedy(estimate_action_value,epsilon, arms, count)\n",
        "        elif typ == ucb:\n",
        "          action = get_action_ucb(estimate_action_value,epsilon, arms, count)\n",
        "\n",
        "        # Adding randomness to the action value for each bandit problem,\n",
        "        # thus simulating variable rewards over time. This segment makes a stationary\n",
        "        # reward system, non-stationary.\n",
        "        expected_action_value = update_expected_action_value(expected_action_value) \n",
        "\n",
        "        # Observe the reward for the selected Action\n",
        "        reward = reward_function(action, expected_action_value,scale)\n",
        "\n",
        "        # Update Estimates of Action Value for the selected Action based on its observed Reward\n",
        "        estimate_action_value=weighted_average(estimate_action_value, action, reward, alpha)\n",
        "        \n",
        "        # Update rewards' list\n",
        "        overall_reward.append(reward)\n",
        "\n",
        "        # If the optimal action is taken\n",
        "        optimal_action.append(action == np.argmax(expected_action_value))\n",
        "\n",
        "        # Increment the number of times the selected action is takern\n",
        "        count[action] += 1\n",
        "        \n",
        "    return overall_reward, optimal_action"
      ],
      "execution_count": 0,
      "outputs": []
    },
    {
      "cell_type": "markdown",
      "metadata": {
        "colab_type": "text",
        "id": "PURivX61H9KA"
      },
      "source": [
        "### Multi-arm testbed\n",
        "\n",
        "---"
      ]
    },
    {
      "cell_type": "code",
      "metadata": {
        "colab_type": "code",
        "id": "yipJgRSP7iMv",
        "colab": {}
      },
      "source": [
        "def run_game(alpha, epsilon, runs = 10, steps = 1000, arms = 10, typ = ''):\n",
        "    rewards = np.zeros((runs, steps))\n",
        "    optimal_actions = np.zeros((runs, steps))\n",
        "    for run in range(0, runs):\n",
        "      rewards[run][:], optimal_actions[run][:] = multi_arm_bandit_problem( alpha = alpha, \n",
        "                                                                            arms = arms, \n",
        "                                                                            steps = steps,\n",
        "                                                                            epsilon = epsilon,\n",
        "                                                                            expected_action_value = expected_action_value,\n",
        "                                                                            scale = 1,\n",
        "                                                                            typ = typ)\n",
        "    rewards_avg = np.average(rewards, axis = 0)\n",
        "    optimal_action_perc = np.average(optimal_actions, axis = 0)\n",
        "    return(rewards_avg, optimal_action_perc)"
      ],
      "execution_count": 0,
      "outputs": []
    },
    {
      "cell_type": "markdown",
      "metadata": {
        "colab_type": "text",
        "id": "Bq4CMvoAQ1hQ"
      },
      "source": [
        "### Plotting the reward performance and optimal action percentage of the agents with different epsilon values.\n",
        "\n",
        "\n",
        "---"
      ]
    },
    {
      "cell_type": "markdown",
      "metadata": {
        "colab_type": "text",
        "id": "jD_cWgwgQ4qF"
      },
      "source": [
        "\n",
        "1. The UCB agent: Orange \n",
        "2. The Greedy agent : Blue \n"
      ]
    },
    {
      "cell_type": "code",
      "metadata": {
        "colab_type": "code",
        "id": "jZozwld4yPsw",
        "colab": {}
      },
      "source": [
        "# Number of arms of bandits.\n",
        "arms=10\n",
        "\n",
        "# Numner of episodes in each run\n",
        "steps = 1000\n",
        "\n",
        "# Total number of runs\n",
        "runs = 2000   \n",
        "\n",
        "# The epsilon value for both the plots\n",
        "epsilon = 0.1\n",
        "\n",
        "# Step size  \n",
        "alpha=0.1\n",
        "\n",
        "# Degree of exploration for UCB\n",
        "c = 2\n",
        "\n",
        "# Default type \n",
        "typ = 'greedy'\n",
        "\n",
        "# Bandit types\n",
        "greedy = 'greedy'\n",
        "ucb = 'ucb'\n",
        "\n",
        "# Mean Reward of Arms\n",
        "expected_action_value = np.random.uniform(0, 1, arms)"
      ],
      "execution_count": 0,
      "outputs": []
    },
    {
      "cell_type": "code",
      "metadata": {
        "colab_type": "code",
        "id": "fSSJD_Rp7iMx",
        "outputId": "0d67a1e9-78f4-48bd-b971-87f903d5c0be",
        "colab": {
          "base_uri": "https://localhost:8080/",
          "height": 67
        }
      },
      "source": [
        "# Running the Experiment for different Scenarios\n",
        "rewards_avg_by_epsilon = dict()\n",
        "rewards_by_different_argmax = dict()\n",
        "\n",
        "# For epsilon greedy\n",
        "print('Running for {} epsilon {}...'.format(greedy, epsilon))\n",
        "rewards_avg, optimal_action_perc = run_game(alpha, epsilon, runs, steps, arms, greedy)\n",
        "rewards_by_different_argmax[\"greedy\"] = rewards_avg\n",
        "\n",
        "# For Upper confidence bound\n",
        "print('Running for {} with c = 2 ...'.format(ucb))\n",
        "rewards_avg, optimal_action_perc = run_game(alpha, epsilon, runs, steps, arms, ucb)\n",
        "rewards_by_different_argmax[\"UCB\"] = rewards_avg\n",
        "print('Experiment is complete') \n"
      ],
      "execution_count": 0,
      "outputs": [
        {
          "output_type": "stream",
          "text": [
            "Running for greedy epsilon 0.1...\n",
            "Running for ucb with c = 2 ...\n",
            "Experiment is complete\n"
          ],
          "name": "stdout"
        }
      ]
    },
    {
      "cell_type": "markdown",
      "metadata": {
        "colab_type": "text",
        "id": "g78qekU3Q7Bf"
      },
      "source": [
        "Once we have the reward performance and optimal action from the test bed, we can now plot the graphs using the in-built function `plot` of matplotlib."
      ]
    },
    {
      "cell_type": "code",
      "metadata": {
        "colab_type": "code",
        "id": "JCsyWIwA7iM0",
        "outputId": "7eedd17a-b153-4210-ef52-d1a918b44606",
        "colab": {
          "base_uri": "https://localhost:8080/",
          "height": 441
        }
      },
      "source": [
        "f, ax = plt.subplots(figsize=(14, 6))\n",
        "for bandit in rewards_by_different_argmax:\n",
        "    ax.plot(range(steps), rewards_by_different_argmax[bandit], label=bandit)\n",
        "ax.legend()\n",
        "plt.title(' Average performance of UCB action selection on the 10-armed testbed. \\\n",
        "As shown, UCB generally performs better than ε-greedy action selection, except \\\n",
        "in the ﬁrst k steps, when it selects randomly among the as-yet-untried actions.')\n",
        "plt.xlabel('Steps')\n",
        "plt.ylabel('Average Reward')\n",
        "ax.set_ylim(0, 3  ) #Max for 100%\n"
      ],
      "execution_count": 0,
      "outputs": [
        {
          "output_type": "execute_result",
          "data": {
            "text/plain": [
              "(0, 3)"
            ]
          },
          "metadata": {
            "tags": []
          },
          "execution_count": 35
        },
        {
          "output_type": "display_data",
          "data": {
            "image/png": "[encoded data removed]",
            "text/plain": [
              "<Figure size 1008x432 with 1 Axes>"
            ]
          },
          "metadata": {
            "tags": []
          }
        }
      ]
    }
  ]
}